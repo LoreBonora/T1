{
  "nbformat": 4,
  "nbformat_minor": 0,
  "metadata": {
    "colab": {
      "name": "T1 - Exploração do dataset Olist.ipynb",
      "provenance": [],
      "toc_visible": true,
      "authorship_tag": "ABX9TyN0+U2LvxxlgUDrj5KARWx9",
      "include_colab_link": true
    },
    "kernelspec": {
      "name": "python3",
      "display_name": "Python 3"
    }
  },
  "cells": [
    {
      "cell_type": "markdown",
      "metadata": {
        "id": "view-in-github",
        "colab_type": "text"
      },
      "source": [
        "<a href=\"https://colab.research.google.com/github/LoreBonora/T1/blob/main/T1_Explora%C3%A7%C3%A3o_do_dataset_Olist.ipynb\" target=\"_parent\"><img src=\"https://colab.research.google.com/assets/colab-badge.svg\" alt=\"Open In Colab\"/></a>"
      ]
    },
    {
      "cell_type": "markdown",
      "metadata": {
        "id": "udX0EQra6Sva"
      },
      "source": [
        "Identificação:\r\n",
        "\r\n",
        "Loredana Bonora Cobianchi\r\n",
        "\r\n",
        "RA: 20.83987-0"
      ]
    },
    {
      "cell_type": "markdown",
      "metadata": {
        "id": "-MZbgxWe6g8x"
      },
      "source": [
        "#Montando o drive e carregando os Datasets\r\n"
      ]
    },
    {
      "cell_type": "code",
      "metadata": {
        "colab": {
          "base_uri": "https://localhost:8080/"
        },
        "id": "poJZkzti6NoK",
        "outputId": "513db229-9ee8-4806-cf17-71c7710fd34a"
      },
      "source": [
        "from google.colab import drive\r\n",
        "drive.mount('/content/drive')"
      ],
      "execution_count": 1,
      "outputs": [
        {
          "output_type": "stream",
          "text": [
            "Mounted at /content/drive\n"
          ],
          "name": "stdout"
        }
      ]
    },
    {
      "cell_type": "code",
      "metadata": {
        "id": "l_Y-fQWu62tr"
      },
      "source": [
        "import pandas as pd"
      ],
      "execution_count": 2,
      "outputs": []
    },
    {
      "cell_type": "code",
      "metadata": {
        "id": "rUcwmH2A6xwq"
      },
      "source": [
        "df_clientes = pd.read_csv('/content/drive/MyDrive/Ciência de Dados e Inteligência Artificial/Fundamentos de Ciências de Dados e Inteligência Artificial/Introdução a Ciência de Dados/Datasets/olist_customers_dataset.csv')\r\n",
        "df_geo = pd.read_csv('/content/drive/MyDrive/Ciência de Dados e Inteligência Artificial/Fundamentos de Ciências de Dados e Inteligência Artificial/Introdução a Ciência de Dados/Datasets/olist_geolocation_dataset.csv', encoding='utf8')\r\n",
        "df_compra_itens = pd.read_csv('/content/drive/MyDrive/Ciência de Dados e Inteligência Artificial/Fundamentos de Ciências de Dados e Inteligência Artificial/Introdução a Ciência de Dados/Datasets/olist_order_items_dataset.csv')\r\n",
        "df_compra_pagamentos = pd.read_csv('/content/drive/MyDrive/Ciência de Dados e Inteligência Artificial/Fundamentos de Ciências de Dados e Inteligência Artificial/Introdução a Ciência de Dados/Datasets/olist_order_payments_dataset.csv')\r\n",
        "df_reviews = pd.read_csv('/content/drive/MyDrive/Ciência de Dados e Inteligência Artificial/Fundamentos de Ciências de Dados e Inteligência Artificial/Introdução a Ciência de Dados/Datasets/olist_order_reviews_dataset.csv')\r\n",
        "df_compras = pd.read_csv('/content/drive/MyDrive/Ciência de Dados e Inteligência Artificial/Fundamentos de Ciências de Dados e Inteligência Artificial/Introdução a Ciência de Dados/Datasets/olist_orders_dataset.csv')\r\n",
        "df_produtos = pd.read_csv('/content/drive/MyDrive/Ciência de Dados e Inteligência Artificial/Fundamentos de Ciências de Dados e Inteligência Artificial/Introdução a Ciência de Dados/Datasets/olist_products_dataset.csv')\r\n",
        "df_vendedores = pd.read_csv('/content/drive/MyDrive/Ciência de Dados e Inteligência Artificial/Fundamentos de Ciências de Dados e Inteligência Artificial/Introdução a Ciência de Dados/Datasets/olist_sellers_dataset.csv')"
      ],
      "execution_count": 20,
      "outputs": []
    },
    {
      "cell_type": "markdown",
      "metadata": {
        "id": "Wxq4eIpv7HXi"
      },
      "source": [
        "#Instalando o Gitly"
      ]
    },
    {
      "cell_type": "code",
      "metadata": {
        "colab": {
          "base_uri": "https://localhost:8080/"
        },
        "id": "gIQzDRjc68RC",
        "outputId": "bf291e79-5b10-40fa-9e9d-c93cfcdfd11d"
      },
      "source": [
        "!pip install -U gitly"
      ],
      "execution_count": 4,
      "outputs": [
        {
          "output_type": "stream",
          "text": [
            "Collecting gitly\n",
            "  Downloading https://files.pythonhosted.org/packages/45/fe/0afeaec8b05a3056e3081c890ea7daae3674ef2849df792561c9bd5dd799/gitly-1.1.4.tar.gz\n",
            "Collecting plotly>=4.9.0\n",
            "\u001b[?25l  Downloading https://files.pythonhosted.org/packages/c9/09/315462259ab7b60a3d4b7159233ed700733c87d889755bdc00a9fb46d692/plotly-4.14.1-py2.py3-none-any.whl (13.2MB)\n",
            "\u001b[K     |████████████████████████████████| 13.2MB 5.3MB/s \n",
            "\u001b[?25hCollecting kaleido\n",
            "\u001b[?25l  Downloading https://files.pythonhosted.org/packages/83/39/1c960a971f8d27e6aa4f1462dc048275c98bbb46f16871269ba941bb4a04/kaleido-0.1.0-py2.py3-none-manylinux1_x86_64.whl (74.6MB)\n",
            "\u001b[K     |████████████████████████████████| 74.6MB 131kB/s \n",
            "\u001b[?25hRequirement already satisfied, skipping upgrade: retrying>=1.3.3 in /usr/local/lib/python3.6/dist-packages (from plotly>=4.9.0->gitly) (1.3.3)\n",
            "Requirement already satisfied, skipping upgrade: six in /usr/local/lib/python3.6/dist-packages (from plotly>=4.9.0->gitly) (1.15.0)\n",
            "Building wheels for collected packages: gitly\n",
            "  Building wheel for gitly (setup.py) ... \u001b[?25l\u001b[?25hdone\n",
            "  Created wheel for gitly: filename=gitly-1.1.4-cp36-none-any.whl size=4520 sha256=31646fa92901f90c66be72ec27388be4e543efa62c2ee5a47830801c341712f5\n",
            "  Stored in directory: /root/.cache/pip/wheels/41/5c/0b/6cd3a688991c83f17c948adf0775f7907a0406d1119bd809af\n",
            "Successfully built gitly\n",
            "Installing collected packages: plotly, kaleido, gitly\n",
            "  Found existing installation: plotly 4.4.1\n",
            "    Uninstalling plotly-4.4.1:\n",
            "      Successfully uninstalled plotly-4.4.1\n",
            "Successfully installed gitly-1.1.4 kaleido-0.1.0 plotly-4.14.1\n"
          ],
          "name": "stdout"
        }
      ]
    },
    {
      "cell_type": "code",
      "metadata": {
        "id": "PJt43An87Nea"
      },
      "source": [
        "from gitly.colab.plot import GitlyPlotter\r\n",
        "\r\n",
        "gitly = GitlyPlotter('git')\r\n",
        "gitly.config_render(renderer='git')"
      ],
      "execution_count": 122,
      "outputs": []
    },
    {
      "cell_type": "code",
      "metadata": {
        "id": "dNeEwB_jSHzW"
      },
      "source": [
        "import plotly.express as px"
      ],
      "execution_count": 91,
      "outputs": []
    },
    {
      "cell_type": "markdown",
      "metadata": {
        "id": "SBPS7-E57ehE"
      },
      "source": [
        "#Exploração dataset de Produtos e Itens"
      ]
    },
    {
      "cell_type": "markdown",
      "metadata": {
        "id": "QVZ9hIYA7yID"
      },
      "source": [
        "##Analise estrutural"
      ]
    },
    {
      "cell_type": "code",
      "metadata": {
        "colab": {
          "base_uri": "https://localhost:8080/",
          "height": 224
        },
        "id": "Db8RWgZh_Yju",
        "outputId": "9b3c8418-4783-49c2-e25f-0f3117f74b7e"
      },
      "source": [
        "df_produtos.head(5)"
      ],
      "execution_count": 21,
      "outputs": [
        {
          "output_type": "execute_result",
          "data": {
            "text/html": [
              "<div>\n",
              "<style scoped>\n",
              "    .dataframe tbody tr th:only-of-type {\n",
              "        vertical-align: middle;\n",
              "    }\n",
              "\n",
              "    .dataframe tbody tr th {\n",
              "        vertical-align: top;\n",
              "    }\n",
              "\n",
              "    .dataframe thead th {\n",
              "        text-align: right;\n",
              "    }\n",
              "</style>\n",
              "<table border=\"1\" class=\"dataframe\">\n",
              "  <thead>\n",
              "    <tr style=\"text-align: right;\">\n",
              "      <th></th>\n",
              "      <th>product_id</th>\n",
              "      <th>product_category_name</th>\n",
              "      <th>product_name_lenght</th>\n",
              "      <th>product_description_lenght</th>\n",
              "      <th>product_photos_qty</th>\n",
              "      <th>product_weight_g</th>\n",
              "      <th>product_length_cm</th>\n",
              "      <th>product_height_cm</th>\n",
              "      <th>product_width_cm</th>\n",
              "    </tr>\n",
              "  </thead>\n",
              "  <tbody>\n",
              "    <tr>\n",
              "      <th>0</th>\n",
              "      <td>1e9e8ef04dbcff4541ed26657ea517e5</td>\n",
              "      <td>perfumaria</td>\n",
              "      <td>40.0</td>\n",
              "      <td>287.0</td>\n",
              "      <td>1.0</td>\n",
              "      <td>225.0</td>\n",
              "      <td>16.0</td>\n",
              "      <td>10.0</td>\n",
              "      <td>14.0</td>\n",
              "    </tr>\n",
              "    <tr>\n",
              "      <th>1</th>\n",
              "      <td>3aa071139cb16b67ca9e5dea641aaa2f</td>\n",
              "      <td>artes</td>\n",
              "      <td>44.0</td>\n",
              "      <td>276.0</td>\n",
              "      <td>1.0</td>\n",
              "      <td>1000.0</td>\n",
              "      <td>30.0</td>\n",
              "      <td>18.0</td>\n",
              "      <td>20.0</td>\n",
              "    </tr>\n",
              "    <tr>\n",
              "      <th>2</th>\n",
              "      <td>96bd76ec8810374ed1b65e291975717f</td>\n",
              "      <td>esporte_lazer</td>\n",
              "      <td>46.0</td>\n",
              "      <td>250.0</td>\n",
              "      <td>1.0</td>\n",
              "      <td>154.0</td>\n",
              "      <td>18.0</td>\n",
              "      <td>9.0</td>\n",
              "      <td>15.0</td>\n",
              "    </tr>\n",
              "    <tr>\n",
              "      <th>3</th>\n",
              "      <td>cef67bcfe19066a932b7673e239eb23d</td>\n",
              "      <td>bebes</td>\n",
              "      <td>27.0</td>\n",
              "      <td>261.0</td>\n",
              "      <td>1.0</td>\n",
              "      <td>371.0</td>\n",
              "      <td>26.0</td>\n",
              "      <td>4.0</td>\n",
              "      <td>26.0</td>\n",
              "    </tr>\n",
              "    <tr>\n",
              "      <th>4</th>\n",
              "      <td>9dc1a7de274444849c219cff195d0b71</td>\n",
              "      <td>utilidades_domesticas</td>\n",
              "      <td>37.0</td>\n",
              "      <td>402.0</td>\n",
              "      <td>4.0</td>\n",
              "      <td>625.0</td>\n",
              "      <td>20.0</td>\n",
              "      <td>17.0</td>\n",
              "      <td>13.0</td>\n",
              "    </tr>\n",
              "  </tbody>\n",
              "</table>\n",
              "</div>"
            ],
            "text/plain": [
              "                         product_id  ... product_width_cm\n",
              "0  1e9e8ef04dbcff4541ed26657ea517e5  ...             14.0\n",
              "1  3aa071139cb16b67ca9e5dea641aaa2f  ...             20.0\n",
              "2  96bd76ec8810374ed1b65e291975717f  ...             15.0\n",
              "3  cef67bcfe19066a932b7673e239eb23d  ...             26.0\n",
              "4  9dc1a7de274444849c219cff195d0b71  ...             13.0\n",
              "\n",
              "[5 rows x 9 columns]"
            ]
          },
          "metadata": {
            "tags": []
          },
          "execution_count": 21
        }
      ]
    },
    {
      "cell_type": "code",
      "metadata": {
        "colab": {
          "base_uri": "https://localhost:8080/"
        },
        "id": "BDKlOaMD7aaS",
        "outputId": "8292fb00-0c73-4908-ed27-0334e68d72b1"
      },
      "source": [
        "df_produtos.shape"
      ],
      "execution_count": 6,
      "outputs": [
        {
          "output_type": "execute_result",
          "data": {
            "text/plain": [
              "(32951, 9)"
            ]
          },
          "metadata": {
            "tags": []
          },
          "execution_count": 6
        }
      ]
    },
    {
      "cell_type": "markdown",
      "metadata": {
        "id": "rEr-WZzp8oAq"
      },
      "source": [
        "Esse arquivo possui 32951 linhas e 9 colunas"
      ]
    },
    {
      "cell_type": "code",
      "metadata": {
        "colab": {
          "base_uri": "https://localhost:8080/",
          "height": 142
        },
        "id": "hclwbCem74Bi",
        "outputId": "217ad13a-8eff-4f2c-bc52-47745bf62c87"
      },
      "source": [
        "df_produtos.agg( ['nunique', 'count', 'size'] )"
      ],
      "execution_count": 7,
      "outputs": [
        {
          "output_type": "execute_result",
          "data": {
            "text/html": [
              "<div>\n",
              "<style scoped>\n",
              "    .dataframe tbody tr th:only-of-type {\n",
              "        vertical-align: middle;\n",
              "    }\n",
              "\n",
              "    .dataframe tbody tr th {\n",
              "        vertical-align: top;\n",
              "    }\n",
              "\n",
              "    .dataframe thead th {\n",
              "        text-align: right;\n",
              "    }\n",
              "</style>\n",
              "<table border=\"1\" class=\"dataframe\">\n",
              "  <thead>\n",
              "    <tr style=\"text-align: right;\">\n",
              "      <th></th>\n",
              "      <th>product_id</th>\n",
              "      <th>product_category_name</th>\n",
              "      <th>product_name_lenght</th>\n",
              "      <th>product_description_lenght</th>\n",
              "      <th>product_photos_qty</th>\n",
              "      <th>product_weight_g</th>\n",
              "      <th>product_length_cm</th>\n",
              "      <th>product_height_cm</th>\n",
              "      <th>product_width_cm</th>\n",
              "    </tr>\n",
              "  </thead>\n",
              "  <tbody>\n",
              "    <tr>\n",
              "      <th>nunique</th>\n",
              "      <td>32951</td>\n",
              "      <td>73</td>\n",
              "      <td>66</td>\n",
              "      <td>2960</td>\n",
              "      <td>19</td>\n",
              "      <td>2204</td>\n",
              "      <td>99</td>\n",
              "      <td>102</td>\n",
              "      <td>95</td>\n",
              "    </tr>\n",
              "    <tr>\n",
              "      <th>count</th>\n",
              "      <td>32951</td>\n",
              "      <td>32341</td>\n",
              "      <td>32341</td>\n",
              "      <td>32341</td>\n",
              "      <td>32341</td>\n",
              "      <td>32949</td>\n",
              "      <td>32949</td>\n",
              "      <td>32949</td>\n",
              "      <td>32949</td>\n",
              "    </tr>\n",
              "    <tr>\n",
              "      <th>size</th>\n",
              "      <td>32951</td>\n",
              "      <td>32951</td>\n",
              "      <td>32951</td>\n",
              "      <td>32951</td>\n",
              "      <td>32951</td>\n",
              "      <td>32951</td>\n",
              "      <td>32951</td>\n",
              "      <td>32951</td>\n",
              "      <td>32951</td>\n",
              "    </tr>\n",
              "  </tbody>\n",
              "</table>\n",
              "</div>"
            ],
            "text/plain": [
              "         product_id  product_category_name  ...  product_height_cm  product_width_cm\n",
              "nunique       32951                     73  ...                102                95\n",
              "count         32951                  32341  ...              32949             32949\n",
              "size          32951                  32951  ...              32951             32951\n",
              "\n",
              "[3 rows x 9 columns]"
            ]
          },
          "metadata": {
            "tags": []
          },
          "execution_count": 7
        }
      ]
    },
    {
      "cell_type": "markdown",
      "metadata": {
        "id": "MpmREktN8vJD"
      },
      "source": [
        "Existem 73 categorias diferentes"
      ]
    },
    {
      "cell_type": "markdown",
      "metadata": {
        "id": "3jxw-Xgv9AaL"
      },
      "source": [
        "###Quais as categorias com mais produtos?"
      ]
    },
    {
      "cell_type": "code",
      "metadata": {
        "colab": {
          "base_uri": "https://localhost:8080/"
        },
        "id": "uvD2yQw88nP7",
        "outputId": "2514c640-0091-448b-dd38-265e0b8b70de"
      },
      "source": [
        "df_categoria_mais_produtos = df_produtos.product_category_name.value_counts().head(5)\r\n",
        "df_categoria_mais_produtos"
      ],
      "execution_count": 109,
      "outputs": [
        {
          "output_type": "execute_result",
          "data": {
            "text/plain": [
              "cama_mesa_banho          3029\n",
              "esporte_lazer            2867\n",
              "moveis_decoracao         2657\n",
              "beleza_saude             2444\n",
              "utilidades_domesticas    2335\n",
              "Name: product_category_name, dtype: int64"
            ]
          },
          "metadata": {
            "tags": []
          },
          "execution_count": 109
        }
      ]
    },
    {
      "cell_type": "markdown",
      "metadata": {
        "id": "OfS9jab79bf6"
      },
      "source": [
        "Não é a categoria de produtos mais vendidos pois isso dependeria de contabilizar orderID, na análise acima estamos apenas contabilizando produtos cadastrados."
      ]
    },
    {
      "cell_type": "code",
      "metadata": {
        "colab": {
          "base_uri": "https://localhost:8080/",
          "height": 467
        },
        "id": "F3iL7wqzTHCm",
        "outputId": "1229a51f-3bbf-4285-9a57-5a7e02bca04e"
      },
      "source": [
        "fig = px.bar(df_categoria_mais_produtos,  title='Categorias com mais itens cadastrados', labels={'index':'Categorias dos produtos'})\r\n",
        "gitly.show( fig )"
      ],
      "execution_count": 123,
      "outputs": [
        {
          "output_type": "execute_result",
          "data": {
            "image/png": "[encoded data removed]",
            "text/plain": [
              "<IPython.core.display.Image object>"
            ]
          },
          "metadata": {
            "tags": []
          },
          "execution_count": 123
        }
      ]
    },
    {
      "cell_type": "markdown",
      "metadata": {
        "id": "MJ9xEoAe-DNK"
      },
      "source": [
        "###Qual o produto maior em tamanho?"
      ]
    },
    {
      "cell_type": "code",
      "metadata": {
        "colab": {
          "base_uri": "https://localhost:8080/",
          "height": 224
        },
        "id": "Xe3Si7Bq9Tqb",
        "outputId": "3bff3cf7-854c-4c37-9483-d6404c0505f0"
      },
      "source": [
        "df_produtos['Volume'] = df_produtos.product_length_cm*df_produtos.product_height_cm*df_produtos.product_width_cm\r\n",
        "df_produtos.head(5)"
      ],
      "execution_count": 22,
      "outputs": [
        {
          "output_type": "execute_result",
          "data": {
            "text/html": [
              "<div>\n",
              "<style scoped>\n",
              "    .dataframe tbody tr th:only-of-type {\n",
              "        vertical-align: middle;\n",
              "    }\n",
              "\n",
              "    .dataframe tbody tr th {\n",
              "        vertical-align: top;\n",
              "    }\n",
              "\n",
              "    .dataframe thead th {\n",
              "        text-align: right;\n",
              "    }\n",
              "</style>\n",
              "<table border=\"1\" class=\"dataframe\">\n",
              "  <thead>\n",
              "    <tr style=\"text-align: right;\">\n",
              "      <th></th>\n",
              "      <th>product_id</th>\n",
              "      <th>product_category_name</th>\n",
              "      <th>product_name_lenght</th>\n",
              "      <th>product_description_lenght</th>\n",
              "      <th>product_photos_qty</th>\n",
              "      <th>product_weight_g</th>\n",
              "      <th>product_length_cm</th>\n",
              "      <th>product_height_cm</th>\n",
              "      <th>product_width_cm</th>\n",
              "      <th>Volume</th>\n",
              "    </tr>\n",
              "  </thead>\n",
              "  <tbody>\n",
              "    <tr>\n",
              "      <th>0</th>\n",
              "      <td>1e9e8ef04dbcff4541ed26657ea517e5</td>\n",
              "      <td>perfumaria</td>\n",
              "      <td>40.0</td>\n",
              "      <td>287.0</td>\n",
              "      <td>1.0</td>\n",
              "      <td>225.0</td>\n",
              "      <td>16.0</td>\n",
              "      <td>10.0</td>\n",
              "      <td>14.0</td>\n",
              "      <td>2240.0</td>\n",
              "    </tr>\n",
              "    <tr>\n",
              "      <th>1</th>\n",
              "      <td>3aa071139cb16b67ca9e5dea641aaa2f</td>\n",
              "      <td>artes</td>\n",
              "      <td>44.0</td>\n",
              "      <td>276.0</td>\n",
              "      <td>1.0</td>\n",
              "      <td>1000.0</td>\n",
              "      <td>30.0</td>\n",
              "      <td>18.0</td>\n",
              "      <td>20.0</td>\n",
              "      <td>10800.0</td>\n",
              "    </tr>\n",
              "    <tr>\n",
              "      <th>2</th>\n",
              "      <td>96bd76ec8810374ed1b65e291975717f</td>\n",
              "      <td>esporte_lazer</td>\n",
              "      <td>46.0</td>\n",
              "      <td>250.0</td>\n",
              "      <td>1.0</td>\n",
              "      <td>154.0</td>\n",
              "      <td>18.0</td>\n",
              "      <td>9.0</td>\n",
              "      <td>15.0</td>\n",
              "      <td>2430.0</td>\n",
              "    </tr>\n",
              "    <tr>\n",
              "      <th>3</th>\n",
              "      <td>cef67bcfe19066a932b7673e239eb23d</td>\n",
              "      <td>bebes</td>\n",
              "      <td>27.0</td>\n",
              "      <td>261.0</td>\n",
              "      <td>1.0</td>\n",
              "      <td>371.0</td>\n",
              "      <td>26.0</td>\n",
              "      <td>4.0</td>\n",
              "      <td>26.0</td>\n",
              "      <td>2704.0</td>\n",
              "    </tr>\n",
              "    <tr>\n",
              "      <th>4</th>\n",
              "      <td>9dc1a7de274444849c219cff195d0b71</td>\n",
              "      <td>utilidades_domesticas</td>\n",
              "      <td>37.0</td>\n",
              "      <td>402.0</td>\n",
              "      <td>4.0</td>\n",
              "      <td>625.0</td>\n",
              "      <td>20.0</td>\n",
              "      <td>17.0</td>\n",
              "      <td>13.0</td>\n",
              "      <td>4420.0</td>\n",
              "    </tr>\n",
              "  </tbody>\n",
              "</table>\n",
              "</div>"
            ],
            "text/plain": [
              "                         product_id  ...   Volume\n",
              "0  1e9e8ef04dbcff4541ed26657ea517e5  ...   2240.0\n",
              "1  3aa071139cb16b67ca9e5dea641aaa2f  ...  10800.0\n",
              "2  96bd76ec8810374ed1b65e291975717f  ...   2430.0\n",
              "3  cef67bcfe19066a932b7673e239eb23d  ...   2704.0\n",
              "4  9dc1a7de274444849c219cff195d0b71  ...   4420.0\n",
              "\n",
              "[5 rows x 10 columns]"
            ]
          },
          "metadata": {
            "tags": []
          },
          "execution_count": 22
        }
      ]
    },
    {
      "cell_type": "code",
      "metadata": {
        "colab": {
          "base_uri": "https://localhost:8080/",
          "height": 439
        },
        "id": "RyScovlO-d6M",
        "outputId": "91a1410f-9090-4f37-c7bb-135afecdd600"
      },
      "source": [
        "df_produtos.sort_values(by = ['Volume'], axis=0, ascending=False)"
      ],
      "execution_count": 30,
      "outputs": [
        {
          "output_type": "execute_result",
          "data": {
            "text/html": [
              "<div>\n",
              "<style scoped>\n",
              "    .dataframe tbody tr th:only-of-type {\n",
              "        vertical-align: middle;\n",
              "    }\n",
              "\n",
              "    .dataframe tbody tr th {\n",
              "        vertical-align: top;\n",
              "    }\n",
              "\n",
              "    .dataframe thead th {\n",
              "        text-align: right;\n",
              "    }\n",
              "</style>\n",
              "<table border=\"1\" class=\"dataframe\">\n",
              "  <thead>\n",
              "    <tr style=\"text-align: right;\">\n",
              "      <th></th>\n",
              "      <th>product_id</th>\n",
              "      <th>product_category_name</th>\n",
              "      <th>product_name_lenght</th>\n",
              "      <th>product_description_lenght</th>\n",
              "      <th>product_photos_qty</th>\n",
              "      <th>product_weight_g</th>\n",
              "      <th>product_length_cm</th>\n",
              "      <th>product_height_cm</th>\n",
              "      <th>product_width_cm</th>\n",
              "      <th>Volume</th>\n",
              "    </tr>\n",
              "  </thead>\n",
              "  <tbody>\n",
              "    <tr>\n",
              "      <th>12802</th>\n",
              "      <td>256a9c364b75753b97bee410c9491ad8</td>\n",
              "      <td>utilidades_domesticas</td>\n",
              "      <td>59.0</td>\n",
              "      <td>649.0</td>\n",
              "      <td>1.0</td>\n",
              "      <td>25250.0</td>\n",
              "      <td>68.0</td>\n",
              "      <td>66.0</td>\n",
              "      <td>66.0</td>\n",
              "      <td>296208.0</td>\n",
              "    </tr>\n",
              "    <tr>\n",
              "      <th>17303</th>\n",
              "      <td>3eb14e65e4208c6d94b7a32e41add538</td>\n",
              "      <td>moveis_sala</td>\n",
              "      <td>51.0</td>\n",
              "      <td>1392.0</td>\n",
              "      <td>3.0</td>\n",
              "      <td>30000.0</td>\n",
              "      <td>70.0</td>\n",
              "      <td>60.0</td>\n",
              "      <td>70.0</td>\n",
              "      <td>294000.0</td>\n",
              "    </tr>\n",
              "    <tr>\n",
              "      <th>10697</th>\n",
              "      <td>0b48eade13cfad433122f23739a66898</td>\n",
              "      <td>moveis_decoracao</td>\n",
              "      <td>28.0</td>\n",
              "      <td>489.0</td>\n",
              "      <td>1.0</td>\n",
              "      <td>14000.0</td>\n",
              "      <td>70.0</td>\n",
              "      <td>60.0</td>\n",
              "      <td>70.0</td>\n",
              "      <td>294000.0</td>\n",
              "    </tr>\n",
              "    <tr>\n",
              "      <th>25524</th>\n",
              "      <td>c1e0531cb1864fd3a0cae57dca55ca80</td>\n",
              "      <td>moveis_sala</td>\n",
              "      <td>50.0</td>\n",
              "      <td>837.0</td>\n",
              "      <td>1.0</td>\n",
              "      <td>30000.0</td>\n",
              "      <td>70.0</td>\n",
              "      <td>60.0</td>\n",
              "      <td>70.0</td>\n",
              "      <td>294000.0</td>\n",
              "    </tr>\n",
              "    <tr>\n",
              "      <th>12146</th>\n",
              "      <td>f227e2d44f10f7dad30fb4dfa839e7a2</td>\n",
              "      <td>moveis_sala</td>\n",
              "      <td>51.0</td>\n",
              "      <td>795.0</td>\n",
              "      <td>1.0</td>\n",
              "      <td>30000.0</td>\n",
              "      <td>70.0</td>\n",
              "      <td>60.0</td>\n",
              "      <td>70.0</td>\n",
              "      <td>294000.0</td>\n",
              "    </tr>\n",
              "    <tr>\n",
              "      <th>...</th>\n",
              "      <td>...</td>\n",
              "      <td>...</td>\n",
              "      <td>...</td>\n",
              "      <td>...</td>\n",
              "      <td>...</td>\n",
              "      <td>...</td>\n",
              "      <td>...</td>\n",
              "      <td>...</td>\n",
              "      <td>...</td>\n",
              "      <td>...</td>\n",
              "    </tr>\n",
              "    <tr>\n",
              "      <th>15211</th>\n",
              "      <td>5a2a2db3896d33beec6828b898812ad5</td>\n",
              "      <td>NaN</td>\n",
              "      <td>NaN</td>\n",
              "      <td>NaN</td>\n",
              "      <td>NaN</td>\n",
              "      <td>200.0</td>\n",
              "      <td>16.0</td>\n",
              "      <td>2.0</td>\n",
              "      <td>11.0</td>\n",
              "      <td>352.0</td>\n",
              "    </tr>\n",
              "    <tr>\n",
              "      <th>961</th>\n",
              "      <td>2f763ba79d9cd987b2034aac7ceffe06</td>\n",
              "      <td>eletronicos</td>\n",
              "      <td>45.0</td>\n",
              "      <td>1198.0</td>\n",
              "      <td>2.0</td>\n",
              "      <td>595.0</td>\n",
              "      <td>8.0</td>\n",
              "      <td>6.0</td>\n",
              "      <td>6.0</td>\n",
              "      <td>288.0</td>\n",
              "    </tr>\n",
              "    <tr>\n",
              "      <th>32950</th>\n",
              "      <td>106392145fca363410d287a815be6de4</td>\n",
              "      <td>cama_mesa_banho</td>\n",
              "      <td>58.0</td>\n",
              "      <td>309.0</td>\n",
              "      <td>1.0</td>\n",
              "      <td>2083.0</td>\n",
              "      <td>12.0</td>\n",
              "      <td>2.0</td>\n",
              "      <td>7.0</td>\n",
              "      <td>168.0</td>\n",
              "    </tr>\n",
              "    <tr>\n",
              "      <th>8578</th>\n",
              "      <td>09ff539a621711667c43eba6a3bd8466</td>\n",
              "      <td>bebes</td>\n",
              "      <td>60.0</td>\n",
              "      <td>865.0</td>\n",
              "      <td>3.0</td>\n",
              "      <td>NaN</td>\n",
              "      <td>NaN</td>\n",
              "      <td>NaN</td>\n",
              "      <td>NaN</td>\n",
              "      <td>NaN</td>\n",
              "    </tr>\n",
              "    <tr>\n",
              "      <th>18851</th>\n",
              "      <td>5eb564652db742ff8f28759cd8d2652a</td>\n",
              "      <td>NaN</td>\n",
              "      <td>NaN</td>\n",
              "      <td>NaN</td>\n",
              "      <td>NaN</td>\n",
              "      <td>NaN</td>\n",
              "      <td>NaN</td>\n",
              "      <td>NaN</td>\n",
              "      <td>NaN</td>\n",
              "      <td>NaN</td>\n",
              "    </tr>\n",
              "  </tbody>\n",
              "</table>\n",
              "<p>32951 rows × 10 columns</p>\n",
              "</div>"
            ],
            "text/plain": [
              "                             product_id  ...    Volume\n",
              "12802  256a9c364b75753b97bee410c9491ad8  ...  296208.0\n",
              "17303  3eb14e65e4208c6d94b7a32e41add538  ...  294000.0\n",
              "10697  0b48eade13cfad433122f23739a66898  ...  294000.0\n",
              "25524  c1e0531cb1864fd3a0cae57dca55ca80  ...  294000.0\n",
              "12146  f227e2d44f10f7dad30fb4dfa839e7a2  ...  294000.0\n",
              "...                                 ...  ...       ...\n",
              "15211  5a2a2db3896d33beec6828b898812ad5  ...     352.0\n",
              "961    2f763ba79d9cd987b2034aac7ceffe06  ...     288.0\n",
              "32950  106392145fca363410d287a815be6de4  ...     168.0\n",
              "8578   09ff539a621711667c43eba6a3bd8466  ...       NaN\n",
              "18851  5eb564652db742ff8f28759cd8d2652a  ...       NaN\n",
              "\n",
              "[32951 rows x 10 columns]"
            ]
          },
          "metadata": {
            "tags": []
          },
          "execution_count": 30
        }
      ]
    },
    {
      "cell_type": "markdown",
      "metadata": {
        "id": "TWWVmjT5Bbtj"
      },
      "source": [
        "O produto 256a9c364b75753b97bee410c9491ad8 tem o maior volume de todos, com 296208,0 cm³. Ele está na categoria de Utilidades domésticas."
      ]
    },
    {
      "cell_type": "markdown",
      "metadata": {
        "id": "_lELOja8B7VD"
      },
      "source": [
        "###Qual o produto que mais gerou dinheiro?"
      ]
    },
    {
      "cell_type": "code",
      "metadata": {
        "colab": {
          "base_uri": "https://localhost:8080/",
          "height": 204
        },
        "id": "vpRuRMcuDSdA",
        "outputId": "5bdf25fc-3e7c-429f-c85b-2c8b185cd9d9"
      },
      "source": [
        "df_compra_itens['sub-total'] = df_compra_itens.order_item_id * df_compra_itens.price\r\n",
        "df_compra_itens.head()"
      ],
      "execution_count": 47,
      "outputs": [
        {
          "output_type": "execute_result",
          "data": {
            "text/html": [
              "<div>\n",
              "<style scoped>\n",
              "    .dataframe tbody tr th:only-of-type {\n",
              "        vertical-align: middle;\n",
              "    }\n",
              "\n",
              "    .dataframe tbody tr th {\n",
              "        vertical-align: top;\n",
              "    }\n",
              "\n",
              "    .dataframe thead th {\n",
              "        text-align: right;\n",
              "    }\n",
              "</style>\n",
              "<table border=\"1\" class=\"dataframe\">\n",
              "  <thead>\n",
              "    <tr style=\"text-align: right;\">\n",
              "      <th></th>\n",
              "      <th>order_id</th>\n",
              "      <th>order_item_id</th>\n",
              "      <th>product_id</th>\n",
              "      <th>seller_id</th>\n",
              "      <th>shipping_limit_date</th>\n",
              "      <th>price</th>\n",
              "      <th>freight_value</th>\n",
              "      <th>sub-total</th>\n",
              "    </tr>\n",
              "  </thead>\n",
              "  <tbody>\n",
              "    <tr>\n",
              "      <th>0</th>\n",
              "      <td>00010242fe8c5a6d1ba2dd792cb16214</td>\n",
              "      <td>1</td>\n",
              "      <td>4244733e06e7ecb4970a6e2683c13e61</td>\n",
              "      <td>48436dade18ac8b2bce089ec2a041202</td>\n",
              "      <td>2017-09-19 09:45:35</td>\n",
              "      <td>58.90</td>\n",
              "      <td>13.29</td>\n",
              "      <td>58.90</td>\n",
              "    </tr>\n",
              "    <tr>\n",
              "      <th>1</th>\n",
              "      <td>00018f77f2f0320c557190d7a144bdd3</td>\n",
              "      <td>1</td>\n",
              "      <td>e5f2d52b802189ee658865ca93d83a8f</td>\n",
              "      <td>dd7ddc04e1b6c2c614352b383efe2d36</td>\n",
              "      <td>2017-05-03 11:05:13</td>\n",
              "      <td>239.90</td>\n",
              "      <td>19.93</td>\n",
              "      <td>239.90</td>\n",
              "    </tr>\n",
              "    <tr>\n",
              "      <th>2</th>\n",
              "      <td>000229ec398224ef6ca0657da4fc703e</td>\n",
              "      <td>1</td>\n",
              "      <td>c777355d18b72b67abbeef9df44fd0fd</td>\n",
              "      <td>5b51032eddd242adc84c38acab88f23d</td>\n",
              "      <td>2018-01-18 14:48:30</td>\n",
              "      <td>199.00</td>\n",
              "      <td>17.87</td>\n",
              "      <td>199.00</td>\n",
              "    </tr>\n",
              "    <tr>\n",
              "      <th>3</th>\n",
              "      <td>00024acbcdf0a6daa1e931b038114c75</td>\n",
              "      <td>1</td>\n",
              "      <td>7634da152a4610f1595efa32f14722fc</td>\n",
              "      <td>9d7a1d34a5052409006425275ba1c2b4</td>\n",
              "      <td>2018-08-15 10:10:18</td>\n",
              "      <td>12.99</td>\n",
              "      <td>12.79</td>\n",
              "      <td>12.99</td>\n",
              "    </tr>\n",
              "    <tr>\n",
              "      <th>4</th>\n",
              "      <td>00042b26cf59d7ce69dfabb4e55b4fd9</td>\n",
              "      <td>1</td>\n",
              "      <td>ac6c3623068f30de03045865e4e10089</td>\n",
              "      <td>df560393f3a51e74553ab94004ba5c87</td>\n",
              "      <td>2017-02-13 13:57:51</td>\n",
              "      <td>199.90</td>\n",
              "      <td>18.14</td>\n",
              "      <td>199.90</td>\n",
              "    </tr>\n",
              "  </tbody>\n",
              "</table>\n",
              "</div>"
            ],
            "text/plain": [
              "                           order_id  order_item_id  ... freight_value sub-total\n",
              "0  00010242fe8c5a6d1ba2dd792cb16214              1  ...         13.29     58.90\n",
              "1  00018f77f2f0320c557190d7a144bdd3              1  ...         19.93    239.90\n",
              "2  000229ec398224ef6ca0657da4fc703e              1  ...         17.87    199.00\n",
              "3  00024acbcdf0a6daa1e931b038114c75              1  ...         12.79     12.99\n",
              "4  00042b26cf59d7ce69dfabb4e55b4fd9              1  ...         18.14    199.90\n",
              "\n",
              "[5 rows x 8 columns]"
            ]
          },
          "metadata": {
            "tags": []
          },
          "execution_count": 47
        }
      ]
    },
    {
      "cell_type": "code",
      "metadata": {
        "colab": {
          "base_uri": "https://localhost:8080/",
          "height": 235
        },
        "id": "aQC-eDfRG6G0",
        "outputId": "bd7b27e0-839e-4784-f0ff-eb15e8ef17e0"
      },
      "source": [
        "df_prod_mais_f = df_compra_itens[['product_id', 'order_item_id', 'sub-total' ]].groupby(by=['product_id']).apply(sum)[['sub-total', 'order_item_id']]\r\n",
        "df_prod_mais_f.head()"
      ],
      "execution_count": 50,
      "outputs": [
        {
          "output_type": "execute_result",
          "data": {
            "text/html": [
              "<div>\n",
              "<style scoped>\n",
              "    .dataframe tbody tr th:only-of-type {\n",
              "        vertical-align: middle;\n",
              "    }\n",
              "\n",
              "    .dataframe tbody tr th {\n",
              "        vertical-align: top;\n",
              "    }\n",
              "\n",
              "    .dataframe thead th {\n",
              "        text-align: right;\n",
              "    }\n",
              "</style>\n",
              "<table border=\"1\" class=\"dataframe\">\n",
              "  <thead>\n",
              "    <tr style=\"text-align: right;\">\n",
              "      <th></th>\n",
              "      <th>sub-total</th>\n",
              "      <th>order_item_id</th>\n",
              "    </tr>\n",
              "    <tr>\n",
              "      <th>product_id</th>\n",
              "      <th></th>\n",
              "      <th></th>\n",
              "    </tr>\n",
              "  </thead>\n",
              "  <tbody>\n",
              "    <tr>\n",
              "      <th>00066f42aeeb9f3007548bb9d3f33c38</th>\n",
              "      <td>101.65</td>\n",
              "      <td>1</td>\n",
              "    </tr>\n",
              "    <tr>\n",
              "      <th>00088930e925c41fd95ebfe695fd2655</th>\n",
              "      <td>129.90</td>\n",
              "      <td>1</td>\n",
              "    </tr>\n",
              "    <tr>\n",
              "      <th>0009406fd7479715e4bef61dd91f2462</th>\n",
              "      <td>229.00</td>\n",
              "      <td>1</td>\n",
              "    </tr>\n",
              "    <tr>\n",
              "      <th>000b8f95fcb9e0096488278317764d19</th>\n",
              "      <td>117.80</td>\n",
              "      <td>2</td>\n",
              "    </tr>\n",
              "    <tr>\n",
              "      <th>000d9be29b5207b54e86aa1b1ac54872</th>\n",
              "      <td>199.00</td>\n",
              "      <td>1</td>\n",
              "    </tr>\n",
              "  </tbody>\n",
              "</table>\n",
              "</div>"
            ],
            "text/plain": [
              "                                  sub-total  order_item_id\n",
              "product_id                                                \n",
              "00066f42aeeb9f3007548bb9d3f33c38     101.65              1\n",
              "00088930e925c41fd95ebfe695fd2655     129.90              1\n",
              "0009406fd7479715e4bef61dd91f2462     229.00              1\n",
              "000b8f95fcb9e0096488278317764d19     117.80              2\n",
              "000d9be29b5207b54e86aa1b1ac54872     199.00              1"
            ]
          },
          "metadata": {
            "tags": []
          },
          "execution_count": 50
        }
      ]
    },
    {
      "cell_type": "code",
      "metadata": {
        "colab": {
          "base_uri": "https://localhost:8080/",
          "height": 235
        },
        "id": "_R-U0YV8GgXI",
        "outputId": "0e27192e-0dc2-4adf-ce3d-6c04fc49b86d"
      },
      "source": [
        "df_prod_mais_f.sort_values(by=['sub-total'] ,ascending=False).head(5)"
      ],
      "execution_count": 53,
      "outputs": [
        {
          "output_type": "execute_result",
          "data": {
            "text/html": [
              "<div>\n",
              "<style scoped>\n",
              "    .dataframe tbody tr th:only-of-type {\n",
              "        vertical-align: middle;\n",
              "    }\n",
              "\n",
              "    .dataframe tbody tr th {\n",
              "        vertical-align: top;\n",
              "    }\n",
              "\n",
              "    .dataframe thead th {\n",
              "        text-align: right;\n",
              "    }\n",
              "</style>\n",
              "<table border=\"1\" class=\"dataframe\">\n",
              "  <thead>\n",
              "    <tr style=\"text-align: right;\">\n",
              "      <th></th>\n",
              "      <th>sub-total</th>\n",
              "      <th>order_item_id</th>\n",
              "    </tr>\n",
              "    <tr>\n",
              "      <th>product_id</th>\n",
              "      <th></th>\n",
              "      <th></th>\n",
              "    </tr>\n",
              "  </thead>\n",
              "  <tbody>\n",
              "    <tr>\n",
              "      <th>bb50f2e236e5eea0100680137654686c</th>\n",
              "      <td>70485.00</td>\n",
              "      <td>215</td>\n",
              "    </tr>\n",
              "    <tr>\n",
              "      <th>5769ef0a239114ac3a854af00df129e4</th>\n",
              "      <td>60480.00</td>\n",
              "      <td>36</td>\n",
              "    </tr>\n",
              "    <tr>\n",
              "      <th>6cdd53843498f92890544667809f1595</th>\n",
              "      <td>57557.60</td>\n",
              "      <td>164</td>\n",
              "    </tr>\n",
              "    <tr>\n",
              "      <th>d1c427060a0f73f6b889a5c7c61f2ac4</th>\n",
              "      <td>50940.39</td>\n",
              "      <td>369</td>\n",
              "    </tr>\n",
              "    <tr>\n",
              "      <th>d6160fb7873f184099d9bc95e30376af</th>\n",
              "      <td>48899.34</td>\n",
              "      <td>35</td>\n",
              "    </tr>\n",
              "  </tbody>\n",
              "</table>\n",
              "</div>"
            ],
            "text/plain": [
              "                                  sub-total  order_item_id\n",
              "product_id                                                \n",
              "bb50f2e236e5eea0100680137654686c   70485.00            215\n",
              "5769ef0a239114ac3a854af00df129e4   60480.00             36\n",
              "6cdd53843498f92890544667809f1595   57557.60            164\n",
              "d1c427060a0f73f6b889a5c7c61f2ac4   50940.39            369\n",
              "d6160fb7873f184099d9bc95e30376af   48899.34             35"
            ]
          },
          "metadata": {
            "tags": []
          },
          "execution_count": 53
        }
      ]
    },
    {
      "cell_type": "markdown",
      "metadata": {
        "id": "0jd5ub5sIIZE"
      },
      "source": [
        "O produto mais gerou dinheiro é o bb50f2e236e5eea0100680137654686c que conseguiu R$70.485,00."
      ]
    },
    {
      "cell_type": "markdown",
      "metadata": {
        "id": "e-qed4qyKd2E"
      },
      "source": [
        "###Qual o a compra mais cara?"
      ]
    },
    {
      "cell_type": "code",
      "metadata": {
        "colab": {
          "base_uri": "https://localhost:8080/",
          "height": 235
        },
        "id": "QQ48NBL-GyzM",
        "outputId": "eb61f0a7-04a5-44df-8635-e958428703b1"
      },
      "source": [
        "df_venda_mais_cara = df_compra_itens[['order_id', 'sub-total' ]].groupby(by=['order_id']).apply(sum)[['sub-total']]\r\n",
        "df_venda_mais_cara.sort_values(by=['sub-total'] ,ascending=False).head(5)"
      ],
      "execution_count": 58,
      "outputs": [
        {
          "output_type": "execute_result",
          "data": {
            "text/html": [
              "<div>\n",
              "<style scoped>\n",
              "    .dataframe tbody tr th:only-of-type {\n",
              "        vertical-align: middle;\n",
              "    }\n",
              "\n",
              "    .dataframe tbody tr th {\n",
              "        vertical-align: top;\n",
              "    }\n",
              "\n",
              "    .dataframe thead th {\n",
              "        text-align: right;\n",
              "    }\n",
              "</style>\n",
              "<table border=\"1\" class=\"dataframe\">\n",
              "  <thead>\n",
              "    <tr style=\"text-align: right;\">\n",
              "      <th></th>\n",
              "      <th>sub-total</th>\n",
              "    </tr>\n",
              "    <tr>\n",
              "      <th>order_id</th>\n",
              "      <th></th>\n",
              "    </tr>\n",
              "  </thead>\n",
              "  <tbody>\n",
              "    <tr>\n",
              "      <th>03caa2c082116e1d31e67e9ae3700499</th>\n",
              "      <td>60480.0</td>\n",
              "    </tr>\n",
              "    <tr>\n",
              "      <th>1b15974a0141d54e36626dca3fdc731a</th>\n",
              "      <td>21000.0</td>\n",
              "    </tr>\n",
              "    <tr>\n",
              "      <th>2cc9089445046817a7539d90805e6e5a</th>\n",
              "      <td>20771.1</td>\n",
              "    </tr>\n",
              "    <tr>\n",
              "      <th>ab14fdcfbe524636d65ee38360e22ce8</th>\n",
              "      <td>20727.0</td>\n",
              "    </tr>\n",
              "    <tr>\n",
              "      <th>736e1922ae60d0d6a89247b851902527</th>\n",
              "      <td>17900.0</td>\n",
              "    </tr>\n",
              "  </tbody>\n",
              "</table>\n",
              "</div>"
            ],
            "text/plain": [
              "                                  sub-total\n",
              "order_id                                   \n",
              "03caa2c082116e1d31e67e9ae3700499    60480.0\n",
              "1b15974a0141d54e36626dca3fdc731a    21000.0\n",
              "2cc9089445046817a7539d90805e6e5a    20771.1\n",
              "ab14fdcfbe524636d65ee38360e22ce8    20727.0\n",
              "736e1922ae60d0d6a89247b851902527    17900.0"
            ]
          },
          "metadata": {
            "tags": []
          },
          "execution_count": 58
        }
      ]
    },
    {
      "cell_type": "markdown",
      "metadata": {
        "id": "2BZHzbayL5wE"
      },
      "source": [
        "A compra mais cara foi a de id 03caa2c082116e1d31e67e9ae3700499 que custou R$60.480,00."
      ]
    },
    {
      "cell_type": "markdown",
      "metadata": {
        "id": "9s-DK4SgNCi9"
      },
      "source": [
        "###Qual a quantidade de produtos comprados?"
      ]
    },
    {
      "cell_type": "code",
      "metadata": {
        "colab": {
          "base_uri": "https://localhost:8080/"
        },
        "id": "mJAKQn97NCAt",
        "outputId": "946990eb-ea2b-4da9-db5c-1664e45d1dd0"
      },
      "source": [
        "df_compra_itens.order_item_id.sum()"
      ],
      "execution_count": 63,
      "outputs": [
        {
          "output_type": "execute_result",
          "data": {
            "text/plain": [
              "134936"
            ]
          },
          "metadata": {
            "tags": []
          },
          "execution_count": 63
        }
      ]
    },
    {
      "cell_type": "markdown",
      "metadata": {
        "id": "jBamQLn9NdRE"
      },
      "source": [
        "Quase 135mil produtos."
      ]
    },
    {
      "cell_type": "markdown",
      "metadata": {
        "id": "gVY0R3D_Nu2d"
      },
      "source": [
        "###Qual a compra com mais itens?"
      ]
    },
    {
      "cell_type": "code",
      "metadata": {
        "id": "PyvNfQV0L3Dd"
      },
      "source": [
        "df_compra_mais_itens = df_compra_itens[['order_id','product_id']].value_counts('order_id').head(5)"
      ],
      "execution_count": 116,
      "outputs": []
    },
    {
      "cell_type": "code",
      "metadata": {
        "colab": {
          "base_uri": "https://localhost:8080/"
        },
        "id": "eYb14m13OHuu",
        "outputId": "abc56013-4a71-4bd9-acce-f614370feb68"
      },
      "source": [
        "df_compra_mais_itens.head()"
      ],
      "execution_count": 117,
      "outputs": [
        {
          "output_type": "execute_result",
          "data": {
            "text/plain": [
              "order_id\n",
              "8272b63d03f5f79c56e9e4120aec44ef    21\n",
              "ab14fdcfbe524636d65ee38360e22ce8    20\n",
              "1b15974a0141d54e36626dca3fdc731a    20\n",
              "9ef13efd6949e4573a18964dd1bbe7f5    15\n",
              "428a2f660dc84138d969ccd69a0ab6d5    15\n",
              "dtype: int64"
            ]
          },
          "metadata": {
            "tags": []
          },
          "execution_count": 117
        }
      ]
    },
    {
      "cell_type": "markdown",
      "metadata": {
        "id": "a61JtlPEQ-Cu"
      },
      "source": [
        "A compra com mais itens foi a 8272b63d03f5f79c56e9e4120aec44ef com 21 itens."
      ]
    },
    {
      "cell_type": "code",
      "metadata": {
        "colab": {
          "base_uri": "https://localhost:8080/",
          "height": 467
        },
        "id": "J-lDZpUVRG3v",
        "outputId": "98867dcc-0001-4ce8-a342-c14a5f814d36"
      },
      "source": [
        "fig = px.bar(df_compra_mais_itens, title='Quantidade de produtos em uma só compra', labels={'index':'order_id'})\r\n",
        "gitly.show( fig )"
      ],
      "execution_count": 124,
      "outputs": [
        {
          "output_type": "execute_result",
          "data": {
            "image/png": "[encoded data removed]",
            "text/plain": [
              "<IPython.core.display.Image object>"
            ]
          },
          "metadata": {
            "tags": []
          },
          "execution_count": 124
        }
      ]
    },
    {
      "cell_type": "markdown",
      "metadata": {
        "id": "JNCm0suOewfv"
      },
      "source": [
        "###Google Colab vs PowerBI"
      ]
    },
    {
      "cell_type": "markdown",
      "metadata": {
        "id": "CjOBr8EYe3H_"
      },
      "source": [
        "Eu brinco que a direfênça entre Mac, Windows e Linux é a seguinte: No Mac você tem uma facilidade de operação grande por ter uma interface mais intuitiva, porém não existe muita abertura para grandes configurações edições em relação aos demais. Seu preço é o mais alto.\r\n",
        "Por sua vez, o Windows é um pouco menos intuitivo que o Mac mas tem uma maior gama de configurações, programas, e aberturas para realizar atividades que que a \"Maçã\". Tem um preço intermediário.\r\n",
        "Quando chegamos no Linux temos o sistema com a maior abertura e desempenho para você fazer o que quiser, mas isso de abre para fazer muitas coisas erradas e também perde-se muito em intuitividade para leigos. É de graça.\r\n",
        "\r\n",
        "O mesmo pode ser observado na relação Intuitividade VS Abertura e preço no IOS e Android (exceto os flagship da Samsung que também são muito caros).\r\n",
        "\r\n",
        "Estudando ciência dos dados utilizando o Colab e o PowerBI vemos quase a mesma coisa.\r\n",
        "\r\n",
        "O PowerBI te dá uma alta gama meios para demonstrar seus dados e insights, configurações e cores para ser o mais \"user friendly\" possível. Deve-se tomar cuidado pois é muito fácil acabar exibindo números e gráficos que não demonstram exatamente o resultado desejado.\r\n",
        "Em troca disse ele pede uma mensalidade bem alta para divulgar seus arquivos.\r\n",
        "No caso do Colab temos uma plataforma totalmente gratuita, com uma abertura muito maior de possibilidades, mas em troca disso temos que realizar uma quantidade maior de programação.\r\n",
        "\r\n",
        "No final das contas, essa seleção de qual meio utilizar para demonstrar os dados vai depender da preferência do cliente."
      ]
    },
    {
      "cell_type": "code",
      "metadata": {
        "id": "Mo9cDCAIe2Fo"
      },
      "source": [
        ""
      ],
      "execution_count": null,
      "outputs": []
    }
  ]
}